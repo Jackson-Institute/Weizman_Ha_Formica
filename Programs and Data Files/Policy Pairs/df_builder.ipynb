{
 "cells": [
  {
   "cell_type": "code",
   "execution_count": 1,
   "metadata": {},
   "outputs": [],
   "source": [
    "domains = ['www.rt.com',\n",
    "          'www.pbs.org.newshour.',\n",
    "          'www.npr.org',\n",
    "          'sputniknews.com',\n",
    "          'xinhuanet.com',\n",
    "          'www.globaltimes.cn',\n",
    "          'www.aljazeera.com',\n",
    "          'www.bbc.com']\n",
    "months = ['10-2019', '11-2019', '12-2019', '01-2020', '02-2020', '03-2020']"
   ]
  },
  {
   "cell_type": "code",
   "execution_count": 2,
   "metadata": {},
   "outputs": [],
   "source": [
    "data_dict = {}\n",
    "to_strip_list = ['www', 'com', 'cn', 'org', '.']\n",
    "for domain in domains:\n",
    "    # Shorten news outlet domain\n",
    "    news_outlet = domain\n",
    "    news_outlet = news_outlet.rstrip('.newshour.')\n",
    "    for to_strip in to_strip_list:\n",
    "        news_outlet = news_outlet.strip(to_strip)\n",
    "    for month in months:\n",
    "        for article_index in range(5):\n",
    "            # Call text file, save as string\n",
    "            text_name = domain + '_' + month.lstrip('0') + '_' + str(article_index) + '.txt'\n",
    "            with open(text_name, encoding = 'utf-8') as fo:\n",
    "                # Without specifying encoding, python throws UnicodeDecodeError\n",
    "                # Of course... Why didn't I think of that.\n",
    "                content = fo.read() \n",
    "            # Create short key for dictionary\n",
    "            key_name = news_outlet + '_' + month + '_' + str(article_index + 1)\n",
    "            # 1 observation down\n",
    "            obs = {key_name : [news_outlet, month, str(article_index + 1), content]}\n",
    "            data_dict.update(obs)"
   ]
  },
  {
   "cell_type": "code",
   "execution_count": 2,
   "metadata": {},
   "outputs": [],
   "source": [
    "import numpy as np\n",
    "import pandas as pd"
   ]
  },
  {
   "cell_type": "code",
   "execution_count": 9,
   "metadata": {},
   "outputs": [],
   "source": [
    "dataset550 = pd.DataFrame.from_dict(data_dict, orient = 'index')\n",
    "dataset550.columns = ['outlet', 'month', 'article_id', 'content']"
   ]
  },
  {
   "cell_type": "code",
   "execution_count": null,
   "metadata": {},
   "outputs": [],
   "source": [
    "dataset550.to_csv('dataset550_prelim.csv')"
   ]
  },
  {
   "cell_type": "code",
   "execution_count": 8,
   "metadata": {},
   "outputs": [
    {
     "data": {
      "text/html": [
       "<div>\n",
       "<style scoped>\n",
       "    .dataframe tbody tr th:only-of-type {\n",
       "        vertical-align: middle;\n",
       "    }\n",
       "\n",
       "    .dataframe tbody tr th {\n",
       "        vertical-align: top;\n",
       "    }\n",
       "\n",
       "    .dataframe thead th {\n",
       "        text-align: right;\n",
       "    }\n",
       "</style>\n",
       "<table border=\"1\" class=\"dataframe\">\n",
       "  <thead>\n",
       "    <tr style=\"text-align: right;\">\n",
       "      <th></th>\n",
       "      <th>Unnamed: 0</th>\n",
       "      <th>outlet</th>\n",
       "      <th>month</th>\n",
       "      <th>article_id</th>\n",
       "      <th>content</th>\n",
       "    </tr>\n",
       "  </thead>\n",
       "  <tbody>\n",
       "    <tr>\n",
       "      <td>0</td>\n",
       "      <td>rt_10-2019_1</td>\n",
       "      <td>rt</td>\n",
       "      <td>10-2019</td>\n",
       "      <td>1</td>\n",
       "      <td>\\n\\n** WATCH: Dutch farmers clog roads with tr...</td>\n",
       "    </tr>\n",
       "    <tr>\n",
       "      <td>1</td>\n",
       "      <td>rt_10-2019_2</td>\n",
       "      <td>rt</td>\n",
       "      <td>10-2019</td>\n",
       "      <td>2</td>\n",
       "      <td>\\n\\n** Swedish school under fire for forcing k...</td>\n",
       "    </tr>\n",
       "    <tr>\n",
       "      <td>2</td>\n",
       "      <td>rt_10-2019_3</td>\n",
       "      <td>rt</td>\n",
       "      <td>10-2019</td>\n",
       "      <td>3</td>\n",
       "      <td>\\n\\n** First it was the cow farts, now asthmat...</td>\n",
       "    </tr>\n",
       "    <tr>\n",
       "      <td>3</td>\n",
       "      <td>rt_10-2019_4</td>\n",
       "      <td>rt</td>\n",
       "      <td>10-2019</td>\n",
       "      <td>4</td>\n",
       "      <td>\\n\\n** A 'woke' remake of 'Baby It's Cold Outs...</td>\n",
       "    </tr>\n",
       "    <tr>\n",
       "      <td>4</td>\n",
       "      <td>rt_10-2019_5</td>\n",
       "      <td>rt</td>\n",
       "      <td>10-2019</td>\n",
       "      <td>5</td>\n",
       "      <td>\\n\\n** 'She is kind, but emotions should not c...</td>\n",
       "    </tr>\n",
       "    <tr>\n",
       "      <td>...</td>\n",
       "      <td>...</td>\n",
       "      <td>...</td>\n",
       "      <td>...</td>\n",
       "      <td>...</td>\n",
       "      <td>...</td>\n",
       "    </tr>\n",
       "    <tr>\n",
       "      <td>235</td>\n",
       "      <td>bbc_03-2020_1</td>\n",
       "      <td>bbc</td>\n",
       "      <td>03-2020</td>\n",
       "      <td>1</td>\n",
       "      <td>\\n\\n** Climate change: New rules could spell e...</td>\n",
       "    </tr>\n",
       "    <tr>\n",
       "      <td>236</td>\n",
       "      <td>bbc_03-2020_2</td>\n",
       "      <td>bbc</td>\n",
       "      <td>03-2020</td>\n",
       "      <td>2</td>\n",
       "      <td>\\n\\n** Climate change: The rich are to blame, ...</td>\n",
       "    </tr>\n",
       "    <tr>\n",
       "      <td>237</td>\n",
       "      <td>bbc_03-2020_3</td>\n",
       "      <td>bbc</td>\n",
       "      <td>03-2020</td>\n",
       "      <td>3</td>\n",
       "      <td>\\n\\n** Cashmere and climate change threaten no...</td>\n",
       "    </tr>\n",
       "    <tr>\n",
       "      <td>238</td>\n",
       "      <td>bbc_03-2020_4</td>\n",
       "      <td>bbc</td>\n",
       "      <td>03-2020</td>\n",
       "      <td>4</td>\n",
       "      <td>\\n\\n** Smart Guide to Climate Change - BBC Fut...</td>\n",
       "    </tr>\n",
       "    <tr>\n",
       "      <td>239</td>\n",
       "      <td>bbc_03-2020_5</td>\n",
       "      <td>bbc</td>\n",
       "      <td>03-2020</td>\n",
       "      <td>5</td>\n",
       "      <td>\\n\\n** Climate change: Australian summers 'twi...</td>\n",
       "    </tr>\n",
       "  </tbody>\n",
       "</table>\n",
       "<p>240 rows × 5 columns</p>\n",
       "</div>"
      ],
      "text/plain": [
       "        Unnamed: 0 outlet    month  article_id  \\\n",
       "0     rt_10-2019_1     rt  10-2019           1   \n",
       "1     rt_10-2019_2     rt  10-2019           2   \n",
       "2     rt_10-2019_3     rt  10-2019           3   \n",
       "3     rt_10-2019_4     rt  10-2019           4   \n",
       "4     rt_10-2019_5     rt  10-2019           5   \n",
       "..             ...    ...      ...         ...   \n",
       "235  bbc_03-2020_1    bbc  03-2020           1   \n",
       "236  bbc_03-2020_2    bbc  03-2020           2   \n",
       "237  bbc_03-2020_3    bbc  03-2020           3   \n",
       "238  bbc_03-2020_4    bbc  03-2020           4   \n",
       "239  bbc_03-2020_5    bbc  03-2020           5   \n",
       "\n",
       "                                               content  \n",
       "0    \\n\\n** WATCH: Dutch farmers clog roads with tr...  \n",
       "1    \\n\\n** Swedish school under fire for forcing k...  \n",
       "2    \\n\\n** First it was the cow farts, now asthmat...  \n",
       "3    \\n\\n** A 'woke' remake of 'Baby It's Cold Outs...  \n",
       "4    \\n\\n** 'She is kind, but emotions should not c...  \n",
       "..                                                 ...  \n",
       "235  \\n\\n** Climate change: New rules could spell e...  \n",
       "236  \\n\\n** Climate change: The rich are to blame, ...  \n",
       "237  \\n\\n** Cashmere and climate change threaten no...  \n",
       "238  \\n\\n** Smart Guide to Climate Change - BBC Fut...  \n",
       "239  \\n\\n** Climate change: Australian summers 'twi...  \n",
       "\n",
       "[240 rows x 5 columns]"
      ]
     },
     "execution_count": 8,
     "metadata": {},
     "output_type": "execute_result"
    }
   ],
   "source": [
    "test = pd.read_csv('dataset550_prelim.csv')\n",
    "test"
   ]
  },
  {
   "cell_type": "code",
   "execution_count": 7,
   "metadata": {},
   "outputs": [
    {
     "data": {
      "text/plain": [
       "rt             30\n",
       "sputniknews    30\n",
       "aljazeera      30\n",
       "xinhuanet      30\n",
       "pbs            30\n",
       "npr            30\n",
       "bbc            30\n",
       "globaltimes    30\n",
       "Name: outlet, dtype: int64"
      ]
     },
     "execution_count": 7,
     "metadata": {},
     "output_type": "execute_result"
    }
   ],
   "source": [
    "test.outlet.value_counts()"
   ]
  }
 ],
 "metadata": {
  "kernelspec": {
   "display_name": "Python 3",
   "language": "python",
   "name": "python3"
  },
  "language_info": {
   "codemirror_mode": {
    "name": "ipython",
    "version": 3
   },
   "file_extension": ".py",
   "mimetype": "text/x-python",
   "name": "python",
   "nbconvert_exporter": "python",
   "pygments_lexer": "ipython3",
   "version": "3.7.4"
  }
 },
 "nbformat": 4,
 "nbformat_minor": 2
}
